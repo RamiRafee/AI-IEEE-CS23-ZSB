{
 "cells": [
  {
   "cell_type": "markdown",
   "id": "73a2af5d",
   "metadata": {},
   "source": [
    "<h2 style = \"color:green\"> P1 </h1>\n",
    "<hr style = 'height: 2px'>\n"
   ]
  },
  {
   "cell_type": "code",
   "execution_count": 3,
   "id": "1cec132c",
   "metadata": {},
   "outputs": [
    {
     "name": "stdout",
     "output_type": "stream",
     "text": [
      "\n",
      "[[9 0 0]\n",
      " [0 9 0]\n",
      " [0 0 9]]\n"
     ]
    }
   ],
   "source": [
    "import numpy as np\n",
    "print()\n",
    "x = np.diag(np.full(3,9))\n",
    "print(x)"
   ]
  },
  {
   "cell_type": "markdown",
   "id": "ee636b50",
   "metadata": {},
   "source": [
    "<h2 style = \"color:green\"> P2 </h1>\n",
    "<hr style = 'height: 2px'>\n"
   ]
  },
  {
   "cell_type": "code",
   "execution_count": 8,
   "id": "9995d60f",
   "metadata": {},
   "outputs": [
    {
     "name": "stdout",
     "output_type": "stream",
     "text": [
      "\n",
      "[[ 2  4  6  8]\n",
      " [10 12 14 16]\n",
      " [18 20 22 24]\n",
      " [26 28 30 32]]\n",
      "[ 8 10 12 14 16 18 20 22 24 26]\n"
     ]
    }
   ],
   "source": [
    "import numpy as np\n",
    "print()\n",
    "\n",
    "x = np.arange(2,33,2).reshape((4,4))\n",
    "std = x.std()\n",
    "avg = x.mean()\n",
    "boolean =(x > (avg - std)) & (x < (avg + std))\n",
    "\n",
    "print(x)\n",
    "print(x[boolean])"
   ]
  },
  {
   "cell_type": "markdown",
   "id": "8dd9c3b2",
   "metadata": {},
   "source": [
    "<h2 style = \"color:green\"> P3 </h1>\n",
    "<hr style = 'height: 2px'>"
   ]
  },
  {
   "cell_type": "code",
   "execution_count": 11,
   "id": "78eaaaf3",
   "metadata": {},
   "outputs": [
    {
     "name": "stdout",
     "output_type": "stream",
     "text": [
      "[[0 0 0 0 0 0 0 0 0]\n",
      " [0 0 0 0 0 0 0 0 0]\n",
      " [0 0 0 0 0 0 0 0 0]\n",
      " [0 0 0 0 0 0 0 0 0]\n",
      " [0 0 0 0 0 0 0 0 0]\n",
      " [0 0 0 0 0 0 0 0 0]\n",
      " [0 0 0 0 0 0 0 0 0]\n",
      " [0 0 0 0 0 0 0 0 0]\n",
      " [0 0 0 0 0 0 0 0 0]]\n"
     ]
    }
   ],
   "source": [
    "import numpy as np\n",
    "\n",
    "x = np.zeros((9,9),dtype = int)\n",
    "\n",
    "print(x)"
   ]
  },
  {
   "cell_type": "markdown",
   "id": "b1cb9a71",
   "metadata": {},
   "source": [
    "<h2 style = \"color:green\"> P4 </h1>\n",
    "<hr style = 'height: 2px'>"
   ]
  },
  {
   "cell_type": "code",
   "execution_count": 5,
   "id": "a3061474",
   "metadata": {},
   "outputs": [
    {
     "name": "stdout",
     "output_type": "stream",
     "text": [
      "enter a number:\n",
      "5\n",
      "\n",
      "[[1. 2. 3. 4. 5.]\n",
      " [1. 2. 3. 4. 5.]\n",
      " [1. 2. 3. 4. 5.]\n",
      " [1. 2. 3. 4. 5.]\n",
      " [1. 2. 3. 4. 5.]]\n",
      "[[1. 1. 1. 1. 1.]\n",
      " [2. 2. 2. 2. 2.]\n",
      " [3. 3. 3. 3. 3.]\n",
      " [4. 4. 4. 4. 4.]\n",
      " [5. 5. 5. 5. 5.]]\n"
     ]
    }
   ],
   "source": [
    "import numpy as np\n",
    "\n",
    "n = int(input(\"enter a number:\\n\"))\n",
    "print()\n",
    "\n",
    "x = np.zeros((n,n))\n",
    "\n",
    "#columns\n",
    "z = np.arange(1,n+1)\n",
    "print(x+z)\n",
    "\n",
    "#Rows\n",
    "z = np.arange(1,n+1).reshape(n,1)\n",
    "print(x + z)"
   ]
  }
 ],
 "metadata": {
  "kernelspec": {
   "display_name": "Python 3 (ipykernel)",
   "language": "python",
   "name": "python3"
  },
  "language_info": {
   "codemirror_mode": {
    "name": "ipython",
    "version": 3
   },
   "file_extension": ".py",
   "mimetype": "text/x-python",
   "name": "python",
   "nbconvert_exporter": "python",
   "pygments_lexer": "ipython3",
   "version": "3.9.13"
  }
 },
 "nbformat": 4,
 "nbformat_minor": 5
}
