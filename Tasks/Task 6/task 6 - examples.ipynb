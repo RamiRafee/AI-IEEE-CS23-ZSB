{
 "cells": [
  {
   "cell_type": "code",
   "execution_count": 1,
   "id": "e52c1720",
   "metadata": {},
   "outputs": [
    {
     "name": "stdout",
     "output_type": "stream",
     "text": [
      "hello\n"
     ]
    }
   ],
   "source": [
    "print(\"hello\")"
   ]
  },
  {
   "cell_type": "markdown",
   "id": "37773ef4",
   "metadata": {},
   "source": [
    "#  Examples\n",
    "<hr style = 'height: 2px'>\n",
    "<hr style = 'height: 2px'>\n"
   ]
  },
  {
   "cell_type": "markdown",
   "id": "2193615e",
   "metadata": {},
   "source": [
    "## 1:)\n",
    "<hr style = 'height: 2px'>\n"
   ]
  },
  {
   "cell_type": "code",
   "execution_count": 2,
   "id": "9285fa9b",
   "metadata": {},
   "outputs": [],
   "source": [
    "import numpy as np\n",
    "import time"
   ]
  },
  {
   "cell_type": "code",
   "execution_count": 3,
   "id": "1593eaf5",
   "metadata": {},
   "outputs": [],
   "source": [
    "x = np.random.random(10000000)"
   ]
  },
  {
   "cell_type": "code",
   "execution_count": 4,
   "id": "75c83b6d",
   "metadata": {},
   "outputs": [
    {
     "name": "stdout",
     "output_type": "stream",
     "text": [
      "0.7536320686340332\n"
     ]
    }
   ],
   "source": [
    "start = time.time()\n",
    "sum(x)/len(x)\n",
    "print(time.time() - start)"
   ]
  },
  {
   "cell_type": "code",
   "execution_count": 5,
   "id": "508d5f2e",
   "metadata": {},
   "outputs": [
    {
     "name": "stdout",
     "output_type": "stream",
     "text": [
      "0.01600337028503418\n"
     ]
    }
   ],
   "source": [
    "start = time.time()\n",
    "np.mean(x)\n",
    "print(time.time() - start)"
   ]
  },
  {
   "cell_type": "markdown",
   "id": "d72aed55",
   "metadata": {},
   "source": [
    "## 2:)\n",
    "<hr style = 'height: 2px'>"
   ]
  },
  {
   "cell_type": "code",
   "execution_count": 6,
   "id": "98e3e3d4",
   "metadata": {},
   "outputs": [],
   "source": [
    "x = np.array([1,2,3,4,5])"
   ]
  },
  {
   "cell_type": "code",
   "execution_count": 7,
   "id": "0485c5a0",
   "metadata": {},
   "outputs": [
    {
     "name": "stdout",
     "output_type": "stream",
     "text": [
      "[1 2 3 4 5]\n",
      "<class 'numpy.ndarray'>\n"
     ]
    }
   ],
   "source": [
    "print(x)\n",
    "print(type(x))"
   ]
  },
  {
   "cell_type": "code",
   "execution_count": 8,
   "id": "cd3ebc63",
   "metadata": {},
   "outputs": [
    {
     "data": {
      "text/plain": [
       "dtype('int32')"
      ]
     },
     "execution_count": 8,
     "metadata": {},
     "output_type": "execute_result"
    }
   ],
   "source": [
    "x.dtype"
   ]
  },
  {
   "cell_type": "code",
   "execution_count": 9,
   "id": "7638e335",
   "metadata": {},
   "outputs": [
    {
     "data": {
      "text/plain": [
       "(5,)"
      ]
     },
     "execution_count": 9,
     "metadata": {},
     "output_type": "execute_result"
    }
   ],
   "source": [
    "x.shape"
   ]
  },
  {
   "cell_type": "code",
   "execution_count": 10,
   "id": "a6f50468",
   "metadata": {},
   "outputs": [
    {
     "name": "stdout",
     "output_type": "stream",
     "text": [
      "[[ 1  2  4]\n",
      " [ 4  5  6]\n",
      " [ 7  8  9]\n",
      " [10 11 12]]\n"
     ]
    }
   ],
   "source": [
    "y = np.array([[1,2,4],[4,5,6],[7,8,9],[10,11,12]])\n",
    "print(y)"
   ]
  },
  {
   "cell_type": "code",
   "execution_count": 11,
   "id": "41ddc175",
   "metadata": {},
   "outputs": [
    {
     "data": {
      "text/plain": [
       "(4, 3)"
      ]
     },
     "execution_count": 11,
     "metadata": {},
     "output_type": "execute_result"
    }
   ],
   "source": [
    "y.shape"
   ]
  },
  {
   "cell_type": "code",
   "execution_count": 12,
   "id": "2e1aaff5",
   "metadata": {},
   "outputs": [
    {
     "data": {
      "text/plain": [
       "12"
      ]
     },
     "execution_count": 12,
     "metadata": {},
     "output_type": "execute_result"
    }
   ],
   "source": [
    "y.size\n"
   ]
  },
  {
   "cell_type": "code",
   "execution_count": 13,
   "id": "1172a273",
   "metadata": {},
   "outputs": [
    {
     "name": "stdout",
     "output_type": "stream",
     "text": [
      "['hello' 'Rami']\n"
     ]
    }
   ],
   "source": [
    "x = np.array([\"hello\",\"Rami\"])\n",
    "print(x)"
   ]
  },
  {
   "cell_type": "code",
   "execution_count": 14,
   "id": "6d84cb9a",
   "metadata": {},
   "outputs": [
    {
     "name": "stdout",
     "output_type": "stream",
     "text": [
      "shape (2,)\n",
      "type <class 'numpy.ndarray'>\n",
      "dtype <U5\n"
     ]
    }
   ],
   "source": [
    "print(\"shape\",x.shape)\n",
    "print(\"type\",type(x))\n",
    "print(\"dtype\",x.dtype)"
   ]
  },
  {
   "cell_type": "code",
   "execution_count": 15,
   "id": "a833a9e6",
   "metadata": {},
   "outputs": [
    {
     "name": "stdout",
     "output_type": "stream",
     "text": [
      "shape (3,)\n",
      "type <class 'numpy.ndarray'>\n",
      "dtype <U11\n"
     ]
    }
   ],
   "source": [
    "x = np.array([1,2,\"rami\"])\n",
    "print(\"shape\",x.shape)\n",
    "print(\"type\",type(x))\n",
    "print(\"dtype\",x.dtype)"
   ]
  },
  {
   "cell_type": "code",
   "execution_count": 16,
   "id": "2fbeda63",
   "metadata": {},
   "outputs": [
    {
     "name": "stdout",
     "output_type": "stream",
     "text": [
      "shape (4,)\n",
      "type <class 'numpy.ndarray'>\n",
      "dtype float64\n"
     ]
    }
   ],
   "source": [
    "x = np.array([1,2.4,3,4.5])\n",
    "print(\"shape\",x.shape)\n",
    "print(\"type\",type(x))\n",
    "print(\"dtype\",x.dtype)"
   ]
  },
  {
   "cell_type": "code",
   "execution_count": 17,
   "id": "6bd6541f",
   "metadata": {},
   "outputs": [
    {
     "name": "stdout",
     "output_type": "stream",
     "text": [
      "[1 2 3 4]\n",
      "shape (4,)\n",
      "type <class 'numpy.ndarray'>\n",
      "dtype int64\n"
     ]
    }
   ],
   "source": [
    "x = np.array([1,2.4,3,4.5], dtype = np.int64)\n",
    "print(x)\n",
    "print(\"shape\",x.shape)\n",
    "print(\"type\",type(x))\n",
    "print(\"dtype\",x.dtype)"
   ]
  },
  {
   "cell_type": "markdown",
   "id": "18049084",
   "metadata": {},
   "source": [
    "# 3:)\n",
    "<hr style = 'height: 2px'>"
   ]
  },
  {
   "cell_type": "code",
   "execution_count": 18,
   "id": "7dd01e75",
   "metadata": {},
   "outputs": [
    {
     "data": {
      "text/plain": [
       "array([1, 2, 3, 4, 5])"
      ]
     },
     "execution_count": 18,
     "metadata": {},
     "output_type": "execute_result"
    }
   ],
   "source": [
    "my_list = [1,2,3,4,5]\n",
    "np.array(my_list)"
   ]
  },
  {
   "cell_type": "code",
   "execution_count": 19,
   "id": "e2fd9c24",
   "metadata": {},
   "outputs": [
    {
     "name": "stdout",
     "output_type": "stream",
     "text": [
      "[[0 0 0 0]\n",
      " [0 0 0 0]\n",
      " [0 0 0 0]]\n"
     ]
    }
   ],
   "source": [
    "x = np.zeros((3,4),dtype = int)\n",
    "print(x)"
   ]
  },
  {
   "cell_type": "code",
   "execution_count": 20,
   "id": "f81002b9",
   "metadata": {},
   "outputs": [
    {
     "name": "stdout",
     "output_type": "stream",
     "text": [
      "[[1. 1. 1. 1. 1.]\n",
      " [1. 1. 1. 1. 1.]\n",
      " [1. 1. 1. 1. 1.]\n",
      " [1. 1. 1. 1. 1.]]\n"
     ]
    }
   ],
   "source": [
    "x = np.ones((4,5))\n",
    "print(x)"
   ]
  },
  {
   "cell_type": "code",
   "execution_count": 21,
   "id": "9d7e3a81",
   "metadata": {},
   "outputs": [
    {
     "name": "stdout",
     "output_type": "stream",
     "text": [
      "[[5 5 5 5 5]\n",
      " [5 5 5 5 5]\n",
      " [5 5 5 5 5]\n",
      " [5 5 5 5 5]]\n",
      "int32\n"
     ]
    }
   ],
   "source": [
    "x = np.full((4,5),5)\n",
    "print(x)\n",
    "print(x.dtype)"
   ]
  },
  {
   "cell_type": "code",
   "execution_count": 22,
   "id": "0a5f57c2",
   "metadata": {},
   "outputs": [
    {
     "name": "stdout",
     "output_type": "stream",
     "text": [
      "[[1. 0. 0. 0. 0.]\n",
      " [0. 1. 0. 0. 0.]\n",
      " [0. 0. 1. 0. 0.]\n",
      " [0. 0. 0. 1. 0.]\n",
      " [0. 0. 0. 0. 1.]]\n"
     ]
    }
   ],
   "source": [
    "x = np.eye(5)\n",
    "print(x)"
   ]
  },
  {
   "cell_type": "code",
   "execution_count": 23,
   "id": "4f80c351",
   "metadata": {},
   "outputs": [
    {
     "name": "stdout",
     "output_type": "stream",
     "text": [
      "[[10  0  0  0]\n",
      " [ 0 20  0  0]\n",
      " [ 0  0 30  0]\n",
      " [ 0  0  0 40]]\n"
     ]
    }
   ],
   "source": [
    "x = np.diag([10,20,30,40])\n",
    "print(x)"
   ]
  },
  {
   "cell_type": "code",
   "execution_count": 24,
   "id": "152c2c0a",
   "metadata": {},
   "outputs": [
    {
     "name": "stdout",
     "output_type": "stream",
     "text": [
      "[0 1 2 3 4 5 6 7 8 9]\n"
     ]
    }
   ],
   "source": [
    "x = np.arange(10)\n",
    "print(x)"
   ]
  },
  {
   "cell_type": "code",
   "execution_count": 25,
   "id": "ad103e0a",
   "metadata": {},
   "outputs": [
    {
     "name": "stdout",
     "output_type": "stream",
     "text": [
      "[4 5 6 7 8 9]\n"
     ]
    }
   ],
   "source": [
    "x = np.arange(4,10)\n",
    "print(x)\n"
   ]
  },
  {
   "cell_type": "code",
   "execution_count": 26,
   "id": "dc9de964",
   "metadata": {},
   "outputs": [
    {
     "name": "stdout",
     "output_type": "stream",
     "text": [
      "[4 6 8]\n"
     ]
    }
   ],
   "source": [
    "x = np.arange(4,10,2)\n",
    "print(x)\n"
   ]
  },
  {
   "cell_type": "code",
   "execution_count": 27,
   "id": "49ba6d3d",
   "metadata": {},
   "outputs": [
    {
     "name": "stdout",
     "output_type": "stream",
     "text": [
      "[4.  4.5 5.  5.5 6.  6.5 7.  7.5 8.  8.5 9.  9.5]\n"
     ]
    }
   ],
   "source": [
    "x = np.linspace(4,10,12 ,endpoint = False)\n",
    "print(x)"
   ]
  },
  {
   "cell_type": "code",
   "execution_count": 28,
   "id": "d13981f7",
   "metadata": {},
   "outputs": [
    {
     "name": "stdout",
     "output_type": "stream",
     "text": [
      "[[4.  4.5 5.  5.5 6.  6.5]\n",
      " [7.  7.5 8.  8.5 9.  9.5]]\n"
     ]
    }
   ],
   "source": [
    "x = np.reshape(x,(2,6))\n",
    "print(x)"
   ]
  },
  {
   "cell_type": "code",
   "execution_count": 29,
   "id": "98effad8",
   "metadata": {},
   "outputs": [
    {
     "name": "stdout",
     "output_type": "stream",
     "text": [
      "[[4.  4.5]\n",
      " [5.  5.5]\n",
      " [6.  6.5]\n",
      " [7.  7.5]\n",
      " [8.  8.5]\n",
      " [9.  9.5]]\n"
     ]
    }
   ],
   "source": [
    "x = np.reshape(x,(6,2))\n",
    "print(x)"
   ]
  },
  {
   "cell_type": "code",
   "execution_count": 30,
   "id": "2b871d30",
   "metadata": {},
   "outputs": [
    {
     "name": "stdout",
     "output_type": "stream",
     "text": [
      "[[4.  4.5]\n",
      " [5.  5.5]\n",
      " [6.  6.5]\n",
      " [7.  7.5]\n",
      " [8.  8.5]\n",
      " [9.  9.5]]\n"
     ]
    }
   ],
   "source": [
    "x = np.linspace(4,10,12,endpoint=False).reshape((6,2))\n",
    "print(x)"
   ]
  },
  {
   "cell_type": "code",
   "execution_count": 31,
   "id": "81d0a568",
   "metadata": {},
   "outputs": [
    {
     "name": "stdout",
     "output_type": "stream",
     "text": [
      "[[0.42897996 0.06891234 0.09442634]\n",
      " [0.4251064  0.74330201 0.82500696]\n",
      " [0.25256305 0.84390398 0.62108289]]\n"
     ]
    }
   ],
   "source": [
    "x = np.random.random((3,3))\n",
    "print(x)"
   ]
  },
  {
   "cell_type": "code",
   "execution_count": 32,
   "id": "1e7b1aa4",
   "metadata": {},
   "outputs": [
    {
     "name": "stdout",
     "output_type": "stream",
     "text": [
      "[[2 4 6]\n",
      " [1 1 1]\n",
      " [6 7 8]]\n"
     ]
    }
   ],
   "source": [
    "x=np.random.randint(1,10,(3,3))\n",
    "print(x)"
   ]
  },
  {
   "cell_type": "code",
   "execution_count": 112,
   "id": "0cacf62a",
   "metadata": {},
   "outputs": [
    {
     "data": {
      "image/png": "[encoded data removed]",
      "text/plain": [
       "<Figure size 640x480 with 1 Axes>"
      ]
     },
     "metadata": {},
     "output_type": "display_data"
    }
   ],
   "source": [
    "import matplotlib.pyplot as plt\n",
    "x = np.random.normal(0,0.5,size=(500,500))\n",
    "plt.plot(x , color = 'blue', label='random data')\n",
    "plt.show()"
   ]
  },
  {
   "cell_type": "markdown",
   "id": "76956d23",
   "metadata": {},
   "source": [
    "## 4:)\n",
    "<hr style = 'height: 2px'>"
   ]
  },
  {
   "cell_type": "code",
   "execution_count": 34,
   "id": "e4f7fbad",
   "metadata": {},
   "outputs": [
    {
     "name": "stdout",
     "output_type": "stream",
     "text": [
      "[1 2 3 4 5]\n"
     ]
    }
   ],
   "source": [
    "x = np.array([1,2,3,4,5])\n",
    "print(x)"
   ]
  },
  {
   "cell_type": "code",
   "execution_count": 35,
   "id": "ec664fb5",
   "metadata": {},
   "outputs": [
    {
     "name": "stdout",
     "output_type": "stream",
     "text": [
      "last element: 5\n"
     ]
    }
   ],
   "source": [
    "print(\"last element:\",x[-1])"
   ]
  },
  {
   "cell_type": "code",
   "execution_count": 36,
   "id": "80d67839",
   "metadata": {},
   "outputs": [
    {
     "name": "stdout",
     "output_type": "stream",
     "text": [
      "[[1 2 3]\n",
      " [4 5 6]\n",
      " [7 8 9]]\n"
     ]
    }
   ],
   "source": [
    "x = np.arange(1,10).reshape(3,3)\n",
    "print(x)"
   ]
  },
  {
   "cell_type": "code",
   "execution_count": 37,
   "id": "7b301177",
   "metadata": {},
   "outputs": [
    {
     "name": "stdout",
     "output_type": "stream",
     "text": [
      "last element of the first array is  3\n"
     ]
    }
   ],
   "source": [
    "print(\"last element of the first array is \", x[0][-1])"
   ]
  },
  {
   "cell_type": "code",
   "execution_count": 38,
   "id": "ef08d40b",
   "metadata": {},
   "outputs": [
    {
     "name": "stdout",
     "output_type": "stream",
     "text": [
      "[[1 2 3]\n",
      " [4 5 6]\n",
      " [7 8 9]]\n",
      "[1 3 4 5 6 7 8]\n"
     ]
    }
   ],
   "source": [
    "y= np.delete(x,[1,8])\n",
    "print(x)\n",
    "print(y)"
   ]
  },
  {
   "cell_type": "code",
   "execution_count": 39,
   "id": "61868eed",
   "metadata": {},
   "outputs": [
    {
     "name": "stdout",
     "output_type": "stream",
     "text": [
      "[[1 2 3]\n",
      " [4 5 6]\n",
      " [7 8 9]]\n",
      "\n",
      "[[4 5 6]\n",
      " [7 8 9]]\n",
      "[[2 3]\n",
      " [5 6]\n",
      " [8 9]]\n"
     ]
    }
   ],
   "source": [
    "print(x)\n",
    "print()\n",
    "y = np.delete(x,0,axis=0)\n",
    "print(y)\n",
    "y = np.delete(x,0,axis=1)\n",
    "\n",
    "print(y)\n"
   ]
  },
  {
   "cell_type": "code",
   "execution_count": 40,
   "id": "8cbf0f6d",
   "metadata": {},
   "outputs": [
    {
     "name": "stdout",
     "output_type": "stream",
     "text": [
      "[[1 2 3]\n",
      " [4 5 6]\n",
      " [7 8 9]]\n",
      "[[ 1  2  3  4]\n",
      " [ 4  5  6  7]\n",
      " [ 7  8  9 10]]\n"
     ]
    }
   ],
   "source": [
    "print(x)\n",
    "x = np.append(x,[[4],[7],[10]],axis=1)\n",
    "print(x)"
   ]
  },
  {
   "cell_type": "code",
   "execution_count": 41,
   "id": "8f72c5e9",
   "metadata": {},
   "outputs": [
    {
     "name": "stdout",
     "output_type": "stream",
     "text": [
      "[[ 1  2  3  4]\n",
      " [ 4  5  6  7]\n",
      " [ 7  8  9 10]]\n",
      "[[ 1  4  7 10  2  3  4]\n",
      " [ 4  4  7 10  5  6  7]\n",
      " [ 7  4  7 10  8  9 10]]\n"
     ]
    }
   ],
   "source": [
    "print(x)\n",
    "x = np.insert(x,1,[[4],[7],[10]],axis=1)\n",
    "print(x)"
   ]
  },
  {
   "cell_type": "code",
   "execution_count": 43,
   "id": "1f9423e7",
   "metadata": {},
   "outputs": [
    {
     "name": "stdout",
     "output_type": "stream",
     "text": [
      "[[1 2]\n",
      " [3 4]\n",
      " [5 6]]\n"
     ]
    }
   ],
   "source": [
    "x = np.array ([1,2])\n",
    "y = np.array([[3,4],[5,6]])\n",
    "print(np.vstack((x,y)))"
   ]
  },
  {
   "cell_type": "code",
   "execution_count": 52,
   "id": "194efb1a",
   "metadata": {},
   "outputs": [
    {
     "name": "stdout",
     "output_type": "stream",
     "text": [
      "[[1 2 3 4 5 6]]\n"
     ]
    }
   ],
   "source": [
    "print(np.hstack((x.reshape(1,2),y.reshape(1,4))))"
   ]
  },
  {
   "cell_type": "markdown",
   "id": "8b720fa0",
   "metadata": {},
   "source": [
    "<h2 style = 'color:blue'> 5:) </h2>\n",
    "<hr style = 'height: 2px'>\n",
    "\n"
   ]
  },
  {
   "cell_type": "code",
   "execution_count": 54,
   "id": "b99fb74e",
   "metadata": {},
   "outputs": [
    {
     "name": "stdout",
     "output_type": "stream",
     "text": [
      "[[ 1  2  3  4  5]\n",
      " [ 6  7  8  9 10]\n",
      " [11 12 13 14 15]\n",
      " [16 17 18 19 20]]\n"
     ]
    }
   ],
   "source": [
    "x = np.arange(1,21).reshape(4,5)\n",
    "print(x)"
   ]
  },
  {
   "cell_type": "code",
   "execution_count": 56,
   "id": "b021180f",
   "metadata": {},
   "outputs": [
    {
     "name": "stdout",
     "output_type": "stream",
     "text": [
      "[[ 8  9 10]\n",
      " [13 14 15]\n",
      " [18 19 20]]\n"
     ]
    }
   ],
   "source": [
    "slicee = x[1:, 2:]\n",
    "print(slicee)"
   ]
  },
  {
   "cell_type": "code",
   "execution_count": 64,
   "id": "4876dad5",
   "metadata": {},
   "outputs": [
    {
     "name": "stdout",
     "output_type": "stream",
     "text": [
      "[ 3  8 13 18]\n",
      "[[ 1  2  3  4  5]\n",
      " [ 6  7  8  9 10]\n",
      " [11 12 13 14 15]\n",
      " [16 17 18 19 20]]\n"
     ]
    }
   ],
   "source": [
    "slicee = x[: , 2]\n",
    "print(slicee) ## if we change in slicee , x will change too"
   ]
  },
  {
   "cell_type": "code",
   "execution_count": 67,
   "id": "1b536da3",
   "metadata": {},
   "outputs": [
    {
     "name": "stdout",
     "output_type": "stream",
     "text": [
      "[[ 3]\n",
      " [ 8]\n",
      " [13]\n",
      " [18]]\n",
      "[[ 1  2  3  4  5]\n",
      " [ 6  7 21  9 10]\n",
      " [11 12 13 14 15]\n",
      " [16 17 18 19 20]]\n"
     ]
    }
   ],
   "source": [
    "slicee = x[: , 2:3]\n",
    "print(slicee) ## if we change in slicee , x will change too\n",
    "slicee [1] = 21\n",
    "print(x)"
   ]
  },
  {
   "cell_type": "code",
   "execution_count": 69,
   "id": "4145af61",
   "metadata": {},
   "outputs": [
    {
     "name": "stdout",
     "output_type": "stream",
     "text": [
      "[ 3 21 13 18]\n"
     ]
    }
   ],
   "source": [
    "slicee = x[: ,2].copy() #if we change in slicee , x will not change\n",
    "print(slicee)"
   ]
  },
  {
   "cell_type": "code",
   "execution_count": 70,
   "id": "b367d8e2",
   "metadata": {},
   "outputs": [
    {
     "name": "stdout",
     "output_type": "stream",
     "text": [
      "[ 1  7 13 19]\n"
     ]
    }
   ],
   "source": [
    "print(x)\n",
    "print(np.diag(x))"
   ]
  },
  {
   "cell_type": "code",
   "execution_count": 75,
   "id": "dbc511b3",
   "metadata": {},
   "outputs": [
    {
     "name": "stdout",
     "output_type": "stream",
     "text": [
      "[[ 1  2  3  4  5]\n",
      " [ 6  7 21  9 10]\n",
      " [11 12 13 14 15]\n",
      " [16 17 18 19 20]]\n",
      "[ 6 12 18]\n"
     ]
    }
   ],
   "source": [
    "print(x)\n",
    "print(np.diag(x,-1))"
   ]
  },
  {
   "cell_type": "code",
   "execution_count": 76,
   "id": "c58ae251",
   "metadata": {},
   "outputs": [
    {
     "name": "stdout",
     "output_type": "stream",
     "text": [
      "[ 1  2  3  4  5  6  7  9 10 11 12 13 14 15 16 17 18 19 20 21]\n"
     ]
    }
   ],
   "source": [
    "print(np.unique(x))\n"
   ]
  },
  {
   "cell_type": "markdown",
   "id": "4f89bd20",
   "metadata": {},
   "source": [
    "<h2 style ='color:blue'> 6:) </h2>\n",
    "<hr style = 'height: 2px'>"
   ]
  },
  {
   "cell_type": "code",
   "execution_count": 82,
   "id": "d2982c4f",
   "metadata": {},
   "outputs": [
    {
     "name": "stdout",
     "output_type": "stream",
     "text": [
      "[[ 0  1  2  3  4]\n",
      " [ 5  6  7  8  9]\n",
      " [10 11 12 13 14]\n",
      " [15 16 17 18 19]\n",
      " [20 21 22 23 24]]\n"
     ]
    }
   ],
   "source": [
    "x = np.arange(25).reshape(5,5)\n",
    "print(x)"
   ]
  },
  {
   "cell_type": "code",
   "execution_count": 79,
   "id": "7a73d1a2",
   "metadata": {},
   "outputs": [
    {
     "name": "stdout",
     "output_type": "stream",
     "text": [
      "[11 12 13 14 15 16 17 18 19 20 21 22 23 24]\n"
     ]
    }
   ],
   "source": [
    "print(x[x>10])"
   ]
  },
  {
   "cell_type": "code",
   "execution_count": 83,
   "id": "1142be4c",
   "metadata": {},
   "outputs": [
    {
     "name": "stdout",
     "output_type": "stream",
     "text": [
      "[[ 0  1  2  3  4]\n",
      " [ 5  6  7  8  9]\n",
      " [10 11 12 13 14]\n",
      " [15 16 17 18 19]\n",
      " [20 21 22 23 24]]\n",
      "[[   0    1    2    3    4]\n",
      " [   5    6    7    8    9]\n",
      " [  10 -100 -100 -100 -100]\n",
      " [-100 -100   17   18   19]\n",
      " [  20   21   22   23   24]]\n"
     ]
    }
   ],
   "source": [
    "print(x)\n",
    "x[(x>10) & (x<17)] = -100\n",
    "print(x)"
   ]
  },
  {
   "cell_type": "code",
   "execution_count": 88,
   "id": "2dc43832",
   "metadata": {},
   "outputs": [
    {
     "name": "stdout",
     "output_type": "stream",
     "text": [
      "[1 2 3 4 5]\n",
      "[ 6  7  8  9 10]\n",
      "[ 1  2  3  4  5  6  7  8  9 10]\n"
     ]
    }
   ],
   "source": [
    "x = np.arange(1,6)\n",
    "y=np.arange(6,11)\n",
    "print(np.setdiff1d(x,y))\n",
    "print(np.setdiff1d(y,x))\n",
    "print(np.union1d(x,y))"
   ]
  },
  {
   "cell_type": "code",
   "execution_count": 92,
   "id": "d1c4eb19",
   "metadata": {},
   "outputs": [
    {
     "name": "stdout",
     "output_type": "stream",
     "text": [
      "[ 9  5  9  3 10 10  7 10  1  5]\n"
     ]
    }
   ],
   "source": [
    "x = np.random.randint(1,11,size=(10))\n",
    "print(x)"
   ]
  },
  {
   "cell_type": "code",
   "execution_count": 94,
   "id": "f9a30429",
   "metadata": {},
   "outputs": [
    {
     "name": "stdout",
     "output_type": "stream",
     "text": [
      "[ 1  3  5  5  7  9  9 10 10 10]\n",
      "[ 9  5  9  3 10 10  7 10  1  5]\n",
      "None\n",
      "[ 1  3  5  5  7  9  9 10 10 10]\n"
     ]
    }
   ],
   "source": [
    "print(np.sort(x))\n",
    "print(x)\n",
    "print(x.sort())\n",
    "print(x)"
   ]
  },
  {
   "cell_type": "code",
   "execution_count": 95,
   "id": "dc6bc583",
   "metadata": {},
   "outputs": [
    {
     "name": "stdout",
     "output_type": "stream",
     "text": [
      "[[ 6  7  4  7  2]\n",
      " [ 9  3  4  6  1]\n",
      " [ 3  2  5  7  4]\n",
      " [ 9  3  9 10  7]\n",
      " [ 2  1  8  8  7]]\n"
     ]
    }
   ],
   "source": [
    "x = np.random.randint(1,11,size=(5,5))\n",
    "print(x)"
   ]
  },
  {
   "cell_type": "code",
   "execution_count": 98,
   "id": "2c76c625",
   "metadata": {},
   "outputs": [
    {
     "name": "stdout",
     "output_type": "stream",
     "text": [
      "[[ 2  4  6  7  7]\n",
      " [ 1  3  4  6  9]\n",
      " [ 2  3  4  5  7]\n",
      " [ 3  7  9  9 10]\n",
      " [ 1  2  7  8  8]]\n",
      "[[ 2  1  4  6  1]\n",
      " [ 3  2  4  7  2]\n",
      " [ 6  3  5  7  4]\n",
      " [ 9  3  8  8  7]\n",
      " [ 9  7  9 10  7]]\n"
     ]
    }
   ],
   "source": [
    "print(np.sort(x,axis=1))#row\n",
    "print(np.sort(x,axis=0))#column"
   ]
  },
  {
   "cell_type": "markdown",
   "id": "50053448",
   "metadata": {},
   "source": [
    "<h2 style = \"color:blue\"> 7:)</h2>\n",
    "<hr style = \"height:4px \">"
   ]
  },
  {
   "cell_type": "code",
   "execution_count": 106,
   "id": "0801d0f0",
   "metadata": {},
   "outputs": [
    {
     "name": "stdout",
     "output_type": "stream",
     "text": [
      "[ 0  1  2  3  4  5  6  7  8  9 10 11 12 13 14 15 16 17 18 19 20 21 22 23\n",
      " 24 25 26 27 28 29 30 31 32 33 34 35 36 37 38 39 40 41 42 43 44 45 46 47\n",
      " 48 49 50 51 52 53 54 55 56 57 58 59 60 61 62 63 64 65 66 67 68 69 70 71\n",
      " 72 73 74 75 76 77 78 79 80 81 82 83 84 85 86 87 88 89 90 91 92 93 94 95\n",
      " 96 97 98 99]\n",
      "[100 101 102 103 104 105 106 107 108 109 110 111 112 113 114 115 116 117\n",
      " 118 119 120 121 122 123 124 125 126 127 128 129 130 131 132 133 134 135\n",
      " 136 137 138 139 140 141 142 143 144 145 146 147 148 149 150 151 152 153\n",
      " 154 155 156 157 158 159 160 161 162 163 164 165 166 167 168 169 170 171\n",
      " 172 173 174 175 176 177 178 179 180 181 182 183 184 185 186 187 188 189\n",
      " 190 191 192 193 194 195 196 197 198 199]\n"
     ]
    }
   ],
   "source": [
    "x = np.arange(100)\n",
    "y=np.arange(100,200)\n",
    "print(x,y,sep=\"\\n\")"
   ]
  },
  {
   "cell_type": "code",
   "execution_count": 108,
   "id": "5461717f",
   "metadata": {},
   "outputs": [
    {
     "name": "stdout",
     "output_type": "stream",
     "text": [
      "[100 102 104 106 108 110 112 114 116 118 120 122 124 126 128 130 132 134\n",
      " 136 138 140 142 144 146 148 150 152 154 156 158 160 162 164 166 168 170\n",
      " 172 174 176 178 180 182 184 186 188 190 192 194 196 198 200 202 204 206\n",
      " 208 210 212 214 216 218 220 222 224 226 228 230 232 234 236 238 240 242\n",
      " 244 246 248 250 252 254 256 258 260 262 264 266 268 270 272 274 276 278\n",
      " 280 282 284 286 288 290 292 294 296 298]\n",
      "0.0005002021789550781\n",
      "[100 102 104 106 108 110 112 114 116 118 120 122 124 126 128 130 132 134\n",
      " 136 138 140 142 144 146 148 150 152 154 156 158 160 162 164 166 168 170\n",
      " 172 174 176 178 180 182 184 186 188 190 192 194 196 198 200 202 204 206\n",
      " 208 210 212 214 216 218 220 222 224 226 228 230 232 234 236 238 240 242\n",
      " 244 246 248 250 252 254 256 258 260 262 264 266 268 270 272 274 276 278\n",
      " 280 282 284 286 288 290 292 294 296 298]\n",
      "0.0005002021789550781\n"
     ]
    }
   ],
   "source": [
    "start = time.time()\n",
    "print(x+y)\n",
    "print(time.time() - start)\n",
    "start = time.time()\n",
    "print(np.add(x,y))\n",
    "print(time.time() - start)"
   ]
  },
  {
   "cell_type": "code",
   "execution_count": 110,
   "id": "eba09423",
   "metadata": {},
   "outputs": [
    {
     "name": "stdout",
     "output_type": "stream",
     "text": [
      "-0.008664295206475856\n"
     ]
    }
   ],
   "source": [
    "x = np.random.normal(0,0.5,size=(100,100))\n",
    "print(x.mean())"
   ]
  },
  {
   "cell_type": "code",
   "execution_count": 113,
   "id": "e3344717",
   "metadata": {},
   "outputs": [
    {
     "name": "stdout",
     "output_type": "stream",
     "text": [
      "[-2.54893765e-02 -1.23457394e-02 -3.37943189e-02  2.05544327e-02\n",
      "  1.07865370e-02 -5.28663955e-03 -8.10756300e-03  1.03846963e-02\n",
      "  1.20991567e-02  1.16484135e-02 -2.92194065e-02 -3.83172144e-02\n",
      " -9.85472982e-03  4.20028850e-02 -4.31323311e-02  8.42595374e-03\n",
      "  4.37536717e-02 -4.75771310e-03 -2.36081258e-02 -1.61036236e-02\n",
      " -3.26122433e-02  4.43104237e-04  9.04414044e-03  4.72711940e-04\n",
      "  2.34836491e-02  1.21487858e-02  4.58412417e-03  7.16922608e-03\n",
      "  3.25211169e-02 -3.27731700e-02 -1.32972555e-03  3.99602833e-02\n",
      "  2.00833854e-02 -1.46509672e-02  3.03693273e-02  2.45993431e-02\n",
      " -1.20341168e-02  1.63182956e-02  4.61324438e-02 -4.10770306e-03\n",
      " -1.38395831e-02  3.54298994e-03  4.99770113e-03  6.00725173e-03\n",
      "  2.80186331e-02  4.79622082e-02  4.35059930e-03 -1.10593384e-02\n",
      " -1.69898981e-02 -2.16246489e-02 -2.91235768e-02 -1.31038302e-02\n",
      " -7.43064017e-03 -2.04362082e-02  1.54379609e-02  1.85709884e-02\n",
      "  2.25200433e-02  1.22062088e-02 -1.96760018e-02 -3.28780659e-02\n",
      "  6.94956057e-03 -1.54935926e-02  9.02472642e-03  3.38904173e-02\n",
      "  3.47897300e-02  1.12394645e-03  2.42270035e-02 -3.92176588e-02\n",
      "  1.21372910e-02  1.53615206e-02  7.48368445e-03  2.56987437e-02\n",
      "  1.55779835e-02 -1.96972674e-02  2.76190401e-02  1.67169610e-02\n",
      "  2.20996983e-02 -3.47081319e-02 -6.92882493e-04 -4.82975341e-03\n",
      "  2.08926413e-02  1.59652244e-02 -2.22097338e-02  3.42084711e-02\n",
      "  1.37415503e-02  6.95935551e-03 -4.78496422e-02 -1.18265636e-02\n",
      " -7.26537608e-03 -1.91205166e-03  2.87737431e-02 -2.00960637e-02\n",
      " -3.84974995e-02  6.05575249e-03  1.67154794e-02  1.35749325e-02\n",
      " -1.24984596e-02 -2.66432367e-03 -2.36089735e-02  2.99050653e-02\n",
      "  3.03403712e-02  1.05679525e-02 -3.41837296e-03  1.04984570e-02\n",
      "  4.01854991e-02  1.92285737e-02  8.71884910e-03 -5.92728903e-03\n",
      " -3.12137242e-02 -4.57586142e-03 -1.06825939e-02  4.64621648e-03\n",
      " -2.78746683e-02  2.78617500e-02  3.43275533e-03  1.77336715e-02\n",
      " -1.67690438e-02 -1.11523469e-02 -6.29547836e-03  4.07689601e-02\n",
      "  1.05214873e-02  1.04763751e-02  1.61104025e-02  1.73403816e-03\n",
      " -5.15307409e-02  2.06120819e-02 -8.30062126e-03 -3.81339339e-02\n",
      "  1.16064257e-02 -9.40629787e-03  1.66263789e-02  2.00126079e-02\n",
      "  3.30019899e-03  1.85967502e-02  2.81808932e-02 -4.86329154e-03\n",
      " -1.89401601e-02  1.23702327e-02  9.92692944e-05 -1.82959652e-02\n",
      " -6.42274645e-02 -1.92927683e-02  5.25171870e-02 -3.08497976e-02\n",
      " -8.90171954e-03 -3.36518893e-03 -8.34797051e-03 -5.84041277e-03\n",
      "  4.85639487e-02 -3.10215037e-02  2.41702734e-02  3.07112490e-03\n",
      " -1.89338087e-02 -3.46161630e-02  2.18990311e-02 -5.49206029e-02\n",
      "  4.10065891e-02 -1.93913373e-02  9.96738892e-03  9.22948460e-04\n",
      " -3.98411776e-03 -2.43810092e-02  6.47177221e-03  3.41168887e-03\n",
      " -2.62955895e-02 -2.54319062e-02  3.63167032e-03 -2.13894823e-03\n",
      " -2.53977226e-02  3.20424686e-02 -8.57943452e-03 -8.42470438e-03\n",
      " -2.04998728e-02  1.90704363e-02 -2.91137282e-03 -2.45334284e-03\n",
      "  2.38422444e-02  4.88572170e-03  1.12856192e-02 -6.85103136e-03\n",
      " -6.57182338e-03  4.98738784e-02  1.58514348e-02  3.51824911e-03\n",
      "  2.91147868e-03  4.88071592e-03 -3.92321183e-04 -2.22066264e-02\n",
      "  4.25081233e-04  2.95889200e-02 -1.68333969e-02 -1.86452400e-02\n",
      "  3.06421347e-03 -1.32852064e-02  6.36410636e-03  2.01453207e-02\n",
      "  6.86951401e-03  1.75931287e-02 -1.08356112e-02  1.79319835e-03\n",
      "  2.12998597e-02 -3.86291834e-02  7.10087770e-03 -3.24836704e-03\n",
      "  6.16390930e-03  3.69969174e-03 -5.01976701e-03  2.15782161e-02\n",
      " -7.52558616e-03 -5.65305085e-03 -2.12381773e-02 -2.28333161e-03\n",
      "  3.02620569e-02  2.18195669e-02 -2.04558632e-02 -3.40146386e-02\n",
      " -5.04975761e-03  1.82730751e-02  1.46412121e-02  1.18733261e-02\n",
      " -4.73362757e-02  6.98411494e-03 -8.13514123e-03 -2.62306508e-02\n",
      " -2.17212594e-02  4.69079461e-02  7.79701996e-03 -6.92161888e-03\n",
      "  3.29909201e-02 -1.39805275e-02  1.22289596e-03 -1.29653440e-02\n",
      "  3.78056063e-02 -2.56796762e-02  8.92571843e-04 -8.49911542e-03\n",
      " -3.19455771e-03 -2.06092907e-02  1.86489187e-02 -3.42527237e-03\n",
      " -1.97161090e-03 -3.33911432e-02 -2.28328402e-02 -1.46018455e-02\n",
      "  1.41762613e-03 -3.45363620e-02  7.45165307e-03  1.61566570e-02\n",
      "  5.30120900e-02 -1.81778682e-02  1.46328640e-02  3.25399217e-02\n",
      " -2.00717672e-02 -2.89826514e-02  2.33345348e-02 -4.17836710e-02\n",
      "  8.76746638e-03 -1.94185334e-02  4.74301956e-03 -1.04140729e-02\n",
      "  1.38676462e-02 -2.88171832e-02  2.55886425e-02 -1.61098714e-02\n",
      " -4.54883431e-02  1.98717391e-02  1.04234080e-02  1.14354267e-03\n",
      "  2.57664967e-02 -1.91891770e-02  6.36166656e-03  3.41192682e-03\n",
      " -2.35385878e-02  1.39002473e-02 -1.23484425e-02 -1.55971690e-02\n",
      " -1.31953683e-02 -1.50667396e-02  6.41202485e-03 -8.12856442e-03\n",
      " -1.92345137e-02  1.45271560e-02 -1.65372026e-02  2.52062243e-03\n",
      " -2.68351104e-03  1.90365172e-02 -4.41506192e-03 -2.46070075e-02\n",
      " -3.37178427e-02  1.21927776e-03 -2.22724803e-02  1.73475022e-02\n",
      " -2.26065084e-03 -1.86659801e-02  9.31080023e-03  9.53937234e-03\n",
      " -7.23191248e-03  3.43131629e-02  4.92370479e-02  4.02358114e-02\n",
      "  3.01735483e-02 -5.18604787e-02 -3.01307067e-02  2.32122551e-02\n",
      " -5.41953139e-03 -2.40259270e-02  5.75841410e-03  1.08838895e-02\n",
      "  1.43160582e-02 -8.68404171e-03  4.05370749e-03 -1.58992036e-03\n",
      "  9.50892786e-03  3.98256744e-02  7.83626614e-03 -3.65757257e-02\n",
      " -7.59337687e-04  4.11659761e-02  8.51043764e-03  1.93521717e-02\n",
      " -1.68684842e-02 -2.09227319e-02 -2.48450011e-02  1.31788918e-03\n",
      "  5.17455748e-02 -8.37581813e-03 -1.79516407e-02  3.26410277e-03\n",
      "  5.11469737e-02 -1.10986545e-02  3.66139132e-02 -2.41340439e-02\n",
      "  3.16247366e-03  5.56001728e-02  5.44758242e-03  1.98275171e-02\n",
      "  2.25506251e-02 -8.34840905e-03  5.26285264e-03 -2.96091999e-02\n",
      "  3.79094495e-04  1.16559901e-02  1.06348990e-02  5.22242935e-03\n",
      " -1.09774902e-03  1.37529241e-02 -1.51015011e-02  9.74210111e-03\n",
      " -1.88542375e-02 -3.38116667e-03  3.70407924e-03  3.06446571e-02\n",
      " -1.96580900e-02  1.33129123e-03 -1.20366703e-02  2.38373241e-02\n",
      " -2.75437603e-02 -1.23494436e-02 -6.77817176e-03  1.77868274e-03\n",
      "  2.76369578e-02 -4.49387265e-02 -1.17477342e-03 -3.43849481e-02\n",
      "  3.90128002e-02  1.45328707e-02  8.06053646e-03 -8.83496830e-03\n",
      "  9.04687915e-03 -3.64143474e-02 -3.32617612e-02  1.76663312e-02\n",
      " -3.81804322e-03 -4.21488224e-02  1.04326917e-02  1.87691503e-02\n",
      " -1.80358361e-02 -1.88264571e-02 -1.42825326e-02  7.59873672e-03\n",
      "  2.45068075e-03  1.35097789e-03 -1.15578096e-03 -1.68040897e-02\n",
      "  3.11982550e-02  3.12117928e-02  1.37254180e-04 -4.11795203e-02\n",
      "  1.03643028e-02  1.92065458e-03 -3.89504817e-02  3.48828482e-02\n",
      " -3.92468125e-03  7.60837928e-04 -2.97899402e-02 -1.17935472e-02\n",
      " -1.20865981e-02 -2.45490937e-02 -2.15587363e-03 -1.51958954e-02\n",
      " -2.01916050e-03 -1.53914939e-02  6.40367284e-03  3.36775673e-03\n",
      "  8.59685127e-03  1.46902969e-02 -3.89315448e-02  6.28383837e-04\n",
      " -6.31908693e-03 -1.93238720e-02  1.46539628e-02  4.09314485e-03\n",
      " -4.08226227e-02  2.45098450e-04  2.66284845e-02 -1.68745113e-03\n",
      "  1.26145686e-02 -1.43456018e-02 -2.80292314e-03  1.74008891e-02\n",
      "  7.18312528e-03 -8.63498471e-03 -7.33312735e-03 -2.36283948e-03\n",
      " -5.12757897e-02 -2.27125532e-02  2.42721967e-02 -1.75078776e-02\n",
      " -6.24272642e-03 -8.77910855e-03  3.13361520e-02 -1.03758174e-02\n",
      "  7.86455021e-03 -4.49811817e-02  9.60766969e-03  2.96936692e-04\n",
      "  1.38982796e-02 -2.45525887e-02  2.04094590e-02  4.08991939e-02\n",
      " -2.07261650e-02  2.80841905e-02  1.15863560e-02  4.28955437e-02\n",
      " -2.32434413e-03 -1.54820915e-02  3.30812698e-02 -5.26563145e-02\n",
      "  4.28972103e-02  1.83152445e-03  1.75689278e-02  4.03939521e-02\n",
      "  6.79897993e-04  1.43356431e-02  1.14990098e-02 -2.71491141e-02\n",
      " -2.82305167e-02  2.87401035e-02 -2.00033541e-02  5.05256439e-02\n",
      "  3.26239620e-03  1.46683602e-02 -3.72441315e-03  3.76822056e-02\n",
      " -1.46264433e-02 -1.18649728e-02  9.15964971e-03  1.70360732e-03\n",
      " -1.64302064e-03  2.62671364e-02  1.37384257e-02  1.36479570e-02\n",
      "  1.47268969e-02 -3.12454786e-02  1.28995172e-02  1.96530743e-02\n",
      " -1.94169058e-02 -3.30403979e-02 -2.31408368e-02 -2.99305186e-02\n",
      " -1.56513595e-02 -7.34076791e-03 -1.88198091e-02 -1.95056375e-02\n",
      "  3.31766518e-02 -1.15814310e-02  8.60456492e-03 -2.69032133e-02\n",
      "  2.00422032e-02 -5.23068415e-03  1.73631675e-02  2.77576836e-03\n",
      " -1.52987985e-02  4.26748760e-02  1.37081330e-02 -1.66270840e-02\n",
      " -4.54435825e-03 -2.79802386e-02 -1.83295420e-02  3.35976586e-02]\n"
     ]
    }
   ],
   "source": [
    "print(x.mean(axis=0)) # columns"
   ]
  },
  {
   "cell_type": "code",
   "execution_count": 114,
   "id": "4b3b7bc8",
   "metadata": {},
   "outputs": [
    {
     "name": "stdout",
     "output_type": "stream",
     "text": [
      "[-3.94216151e-02  6.54921681e-03 -1.48913026e-02 -1.57890804e-02\n",
      " -2.63882286e-02 -6.47726640e-03  1.06604029e-02  8.68903028e-03\n",
      "  6.07115249e-03  4.36104420e-02 -5.69567034e-03 -2.98080020e-03\n",
      "  2.74583410e-03  2.08544289e-02 -1.14331641e-02  1.87028660e-02\n",
      " -1.19439423e-02  3.46020839e-02 -6.84285749e-03 -2.37652964e-02\n",
      "  3.70322092e-02 -6.03867632e-03 -1.18692984e-02 -9.28447810e-03\n",
      " -8.50149945e-03  1.59018512e-02  5.93037670e-03 -1.16054904e-02\n",
      " -2.20673624e-02 -1.38677476e-02 -6.22203316e-03  3.26076357e-02\n",
      " -4.54838985e-03 -3.49726730e-02 -2.02329580e-02  6.77375918e-04\n",
      " -4.01744412e-02  3.22923265e-02 -1.25995808e-02 -1.31851617e-02\n",
      " -2.37372983e-02  2.29139685e-02 -2.66136447e-02  2.90893560e-02\n",
      "  1.73253927e-02 -3.24839360e-03 -1.19536291e-02  5.47962148e-03\n",
      "  4.34263150e-02  5.65048795e-02 -5.59236579e-02 -1.50903236e-02\n",
      "  2.26540290e-02  1.20127588e-02 -2.91499659e-02 -1.19431041e-03\n",
      "  1.04351909e-02  3.23353099e-02 -7.18555869e-03  2.33063555e-02\n",
      " -1.98005673e-02 -5.60431407e-03  2.04158125e-03 -8.76835572e-03\n",
      "  1.81686443e-02  3.11984984e-02  1.68652299e-02  1.25828023e-03\n",
      " -1.22178559e-02  3.39275304e-02 -1.98857479e-02  3.46412568e-02\n",
      " -2.35220848e-02 -3.32762668e-02 -4.07018185e-02 -9.72860367e-03\n",
      " -2.73728189e-02 -1.40825195e-02 -8.91167509e-03 -1.80653462e-03\n",
      " -3.24247861e-03 -5.06917512e-03 -3.03115836e-02 -3.30599220e-02\n",
      " -4.40734225e-02 -1.00191463e-02 -1.49759928e-02  2.39848055e-02\n",
      " -2.38675388e-02  1.33257460e-02  1.33353853e-02 -7.48479582e-03\n",
      " -1.09287971e-02  1.24499728e-03  3.78812072e-02  4.02500645e-02\n",
      " -6.19759135e-03  5.02227001e-02  2.42756460e-04 -1.00352144e-02\n",
      " -9.98673026e-03  2.43020473e-02  2.29004670e-02 -1.08332742e-02\n",
      " -4.54502632e-03 -2.43808401e-02 -2.02957527e-02 -1.57046472e-03\n",
      "  2.68596341e-02 -1.69183070e-02  1.98709523e-03  1.46263210e-03\n",
      "  2.42680310e-02  5.42171655e-03  1.55247107e-03  3.27090528e-02\n",
      " -2.19749997e-03  1.22315408e-02  2.78858957e-02  1.60032194e-02\n",
      "  5.44187777e-02  8.63787175e-03 -2.23150566e-02  3.83347589e-02\n",
      "  3.44271595e-02  6.34082431e-03 -2.02218100e-02  3.36352231e-02\n",
      "  1.49940550e-02 -2.24598541e-02  7.12491067e-03  5.77805905e-03\n",
      "  1.90677501e-03 -1.46239224e-02  2.62114716e-02  2.94228311e-02\n",
      "  1.62866467e-02 -1.49733996e-02 -3.40526783e-03 -3.03665440e-03\n",
      " -2.53654426e-02 -1.81470493e-02 -1.22622732e-02  7.84833823e-03\n",
      " -1.67715050e-02  2.24991486e-02  2.45969748e-02  1.07030712e-02\n",
      " -7.97469238e-03  1.08213314e-02 -7.97559603e-04 -1.56879871e-02\n",
      " -1.69974476e-02 -5.23124672e-02  1.47316592e-02 -6.43537905e-03\n",
      " -2.65996281e-03 -2.28922304e-02  2.48741106e-02 -1.00038556e-02\n",
      " -2.94080083e-02 -2.99699048e-03  1.22348954e-02 -1.70538726e-02\n",
      "  5.10231447e-03  1.67886363e-02  1.11718553e-02  2.13621677e-02\n",
      "  8.15237725e-03  3.12139510e-02  2.33348059e-02  2.34893657e-03\n",
      " -3.29432814e-04 -8.29503698e-03  3.71435896e-02 -3.03077272e-02\n",
      " -3.48234324e-02 -1.02047868e-02 -1.07432386e-02  1.15065458e-02\n",
      "  1.49809127e-02  1.17154343e-02  8.78266120e-03 -9.29497447e-03\n",
      "  2.05115835e-02  1.90350279e-02  1.50121433e-02  1.96389332e-02\n",
      " -2.50186889e-02 -1.63686119e-02  1.02801409e-02  7.55878081e-03\n",
      "  2.35608637e-02 -1.66740144e-02 -6.07127050e-03  1.11136741e-02\n",
      " -4.54443703e-02  3.31000986e-02 -1.81862839e-02 -2.23473258e-02\n",
      " -5.60131180e-03 -1.70517152e-02 -1.18462076e-02 -1.68705942e-02\n",
      " -1.92960266e-02 -2.48113675e-02 -2.78347622e-02 -2.22820664e-02\n",
      "  2.26631961e-02 -4.38770649e-03  8.44410515e-03  1.58493138e-02\n",
      " -1.45681585e-02  1.24048302e-02  5.60342134e-03 -4.42224632e-03\n",
      " -9.53135035e-03  3.78370681e-02 -9.93194956e-03 -2.88373027e-03\n",
      " -2.53441856e-02 -1.75865947e-02 -6.41364803e-03  4.72656791e-03\n",
      "  3.13618400e-04 -5.22221232e-03  1.82559341e-02  7.25939558e-04\n",
      " -5.92230052e-03 -3.58460056e-02  4.66498690e-02 -4.18139227e-02\n",
      "  7.49962376e-03  9.83067843e-03 -6.40032633e-03  4.10945441e-03\n",
      "  1.37274650e-03  6.07660891e-03  7.75104264e-03 -2.54260419e-02\n",
      "  8.84499643e-03  1.47656509e-02  1.32528555e-02  2.28992077e-02\n",
      " -3.05488773e-04 -1.01885408e-02 -7.13841949e-03 -1.42167465e-02\n",
      "  8.11464018e-03  2.11915322e-02 -3.01195211e-02  4.55798244e-03\n",
      " -9.80648008e-04 -8.32636232e-04 -1.41245244e-02  8.83459241e-03\n",
      " -2.86757919e-02  4.98621240e-03 -1.97676879e-02  1.78506100e-02\n",
      " -2.93668527e-02 -3.02086224e-02  1.71389342e-02 -1.19685556e-02\n",
      " -2.06675462e-02 -3.86332221e-02 -1.99830598e-02 -9.22720179e-03\n",
      " -1.01009954e-02 -2.63757615e-03  2.68649470e-03  2.94567551e-02\n",
      "  9.24379070e-03 -4.82083761e-03 -4.63454654e-03 -3.27215189e-02\n",
      " -5.01346066e-02 -6.18178515e-03  2.14174613e-02 -7.80444270e-03\n",
      " -4.41929244e-03 -1.32441002e-02  1.88184112e-03 -1.18366470e-02\n",
      "  2.68550376e-02  1.65002800e-02 -8.37004116e-04  1.59285430e-02\n",
      " -5.48509173e-03 -1.64213568e-02 -1.42115929e-02  3.30874492e-03\n",
      " -1.65044403e-02  1.61417991e-02  3.24127212e-02 -1.59154906e-03\n",
      " -2.69835567e-02 -1.07593722e-02 -6.16115868e-02  3.16937175e-03\n",
      " -8.40598141e-03 -1.57451034e-02  3.11542404e-02  1.71779510e-02\n",
      "  7.93837773e-03 -2.10282915e-02 -2.22739975e-02 -8.32703101e-03\n",
      "  5.11128003e-03  2.29361409e-02 -1.49788655e-03 -1.94643718e-02\n",
      " -3.30115952e-02 -6.19890927e-03  1.48440371e-02 -1.98816149e-02\n",
      "  2.78238503e-03  3.20232492e-02  1.20574491e-02 -3.85304779e-02\n",
      "  1.52071790e-02  1.06373539e-02 -1.54959334e-02  2.07647056e-02\n",
      "  3.38780738e-02  1.65334882e-02 -8.22354170e-03  4.53334320e-02\n",
      "  8.12522256e-02  9.49649163e-03  1.84276184e-03  5.31762148e-03\n",
      "  1.59339164e-02  7.19685861e-03 -2.01227563e-02  2.58558069e-03\n",
      "  2.34862828e-02 -4.44675106e-02  1.34445960e-02 -6.70177892e-03\n",
      "  3.16396175e-02  3.07443759e-02  3.45683396e-02 -4.80889424e-02\n",
      "  5.38594182e-02 -4.03066073e-02 -3.92479190e-02 -8.07004011e-03\n",
      "  4.73346887e-05 -3.35679732e-02 -1.19805524e-03 -2.20148848e-02\n",
      " -3.02365618e-03  7.87150435e-03  2.50565080e-02  3.33984220e-02\n",
      " -7.84018587e-03 -5.85610286e-02  4.07709539e-03 -3.24709259e-03\n",
      "  1.14601278e-02  4.07455401e-03 -2.78388704e-02  1.09913635e-02\n",
      " -2.14437207e-02 -7.17273586e-04 -2.30762329e-02 -7.74809628e-03\n",
      " -1.70608740e-02  1.14182343e-02 -1.44180246e-02  2.40309815e-02\n",
      " -1.13235880e-02  2.02545103e-02 -1.71387233e-02 -7.28257563e-03\n",
      " -1.48063457e-02 -8.99547048e-03  1.82884761e-02 -9.07305949e-04\n",
      " -1.54124724e-02  1.46120253e-02 -5.59465994e-03 -5.85572170e-03\n",
      " -1.55607195e-02 -2.29030169e-02 -2.85158478e-03  2.84923030e-02\n",
      " -2.91038096e-02  2.39015163e-02  3.35320157e-02 -3.33812219e-02\n",
      "  2.49293671e-02 -3.09822903e-03 -1.22776263e-02  1.71120631e-02\n",
      "  1.80031353e-02 -6.93593262e-03 -7.46031282e-03 -1.81103804e-04\n",
      "  4.48997665e-02 -4.57010707e-03  1.57823831e-02  4.02287013e-03\n",
      "  3.74352554e-02 -2.96342071e-02  1.39365982e-03 -1.04545168e-02\n",
      "  2.52862725e-04  2.08040215e-02  1.26932035e-02 -2.45928113e-02\n",
      "  4.12947220e-03  2.69852301e-02  4.32323466e-02  1.27916899e-02\n",
      " -2.11096060e-02  3.40758887e-02  1.78415803e-02 -1.72084569e-02\n",
      "  2.26074418e-02 -1.20303019e-02  6.26177907e-03 -1.45059592e-02\n",
      "  6.79923765e-03 -2.46257967e-02  7.30882854e-03  2.75075176e-02\n",
      " -3.09986247e-02  6.32556211e-03  1.23578380e-02 -5.43373144e-03\n",
      "  1.89174049e-02  1.08277315e-02  1.09810194e-03  4.46436282e-03\n",
      "  9.31671285e-03 -1.54753285e-02 -9.07765324e-03 -8.33503591e-03\n",
      "  1.00222954e-02 -5.09461320e-03  2.50490621e-02 -3.10690872e-02\n",
      "  2.25836114e-03  4.08081626e-02 -3.05972837e-02  1.93934820e-02\n",
      " -4.31914333e-02 -2.65521344e-02  2.09978028e-02 -1.78358512e-03\n",
      " -2.04701021e-02  3.17531335e-02  2.61995858e-02  1.95192031e-02\n",
      "  2.68005731e-03  1.47055355e-02 -7.66222468e-03 -4.21719081e-02\n",
      " -2.00655648e-02 -5.38773689e-03  6.08580946e-03  3.31146219e-02\n",
      "  3.09069497e-02  1.93995469e-02 -1.25780674e-03 -1.78894614e-02\n",
      " -5.12484690e-03 -1.59300187e-02 -2.18973539e-02 -1.90822084e-02\n",
      " -1.23161382e-02 -1.49010372e-02  6.62679032e-02 -1.59768033e-02\n",
      " -9.40281314e-03 -3.06955509e-02  9.93057836e-03  2.92949858e-02\n",
      "  2.05807160e-02  1.17725692e-02 -5.08396662e-03 -3.15256644e-02\n",
      " -1.44968604e-02 -3.18043582e-02  4.73299264e-02  2.78947488e-02\n",
      "  3.92625759e-02  2.00771508e-02  2.97224039e-03  2.51745700e-02\n",
      "  1.19931720e-02  2.78077960e-03  1.99919645e-02  2.79788955e-02\n",
      "  3.01016198e-02 -1.41669413e-02 -8.81840489e-03 -4.19673331e-02]\n"
     ]
    }
   ],
   "source": [
    "print(x.mean(axis=1)) #rows"
   ]
  },
  {
   "cell_type": "code",
   "execution_count": 116,
   "id": "d68d8856",
   "metadata": {},
   "outputs": [
    {
     "name": "stdout",
     "output_type": "stream",
     "text": [
      "0.49851014413846034\n"
     ]
    }
   ],
   "source": [
    "print(x.std())"
   ]
  },
  {
   "cell_type": "code",
   "execution_count": 117,
   "id": "41a42dad",
   "metadata": {},
   "outputs": [
    {
     "name": "stdout",
     "output_type": "stream",
     "text": [
      "[[4 5]\n",
      " [6 7]]\n"
     ]
    }
   ],
   "source": [
    "x = np.arange(4,8).reshape(2,2)\n",
    "print(x)"
   ]
  },
  {
   "cell_type": "code",
   "execution_count": 118,
   "id": "e6e7f939",
   "metadata": {},
   "outputs": [
    {
     "name": "stdout",
     "output_type": "stream",
     "text": [
      "[[1 2]\n",
      " [3 4]]\n"
     ]
    }
   ],
   "source": [
    "print(x - 3)"
   ]
  },
  {
   "cell_type": "code",
   "execution_count": 119,
   "id": "21ba0d99",
   "metadata": {},
   "outputs": [
    {
     "name": "stdout",
     "output_type": "stream",
     "text": [
      "[[12 15]\n",
      " [18 21]]\n"
     ]
    }
   ],
   "source": [
    "print(x *3 )"
   ]
  },
  {
   "cell_type": "code",
   "execution_count": 120,
   "id": "8cfbb004",
   "metadata": {},
   "outputs": [
    {
     "name": "stdout",
     "output_type": "stream",
     "text": [
      "[[5 7]\n",
      " [7 9]]\n"
     ]
    }
   ],
   "source": [
    "print(x + [1,2]) #row"
   ]
  },
  {
   "cell_type": "code",
   "execution_count": 121,
   "id": "1556a81c",
   "metadata": {},
   "outputs": [
    {
     "name": "stdout",
     "output_type": "stream",
     "text": [
      "[[5 6]\n",
      " [8 9]]\n"
     ]
    }
   ],
   "source": [
    "print(x + [[1],[2]]) #column"
   ]
  },
  {
   "cell_type": "code",
   "execution_count": null,
   "id": "d0dba05f",
   "metadata": {},
   "outputs": [],
   "source": []
  }
 ],
 "metadata": {
  "kernelspec": {
   "display_name": "Python 3 (ipykernel)",
   "language": "python",
   "name": "python3"
  },
  "language_info": {
   "codemirror_mode": {
    "name": "ipython",
    "version": 3
   },
   "file_extension": ".py",
   "mimetype": "text/x-python",
   "name": "python",
   "nbconvert_exporter": "python",
   "pygments_lexer": "ipython3",
   "version": "3.9.13"
  }
 },
 "nbformat": 4,
 "nbformat_minor": 5
}
